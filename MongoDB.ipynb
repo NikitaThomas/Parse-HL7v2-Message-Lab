{
 "cells": [
  {
   "cell_type": "markdown",
   "metadata": {},
   "source": [
    "# MongoDB Intro"
   ]
  },
  {
   "cell_type": "markdown",
   "metadata": {},
   "source": [
    "MongoDB is a popular NoSQL database (as opposed to a SQL database). We will get into the details later in the semester, but for now the most important thing about MongoDB is that it stores data in JSON format.\n",
    "\n",
    "We will not be covering how to install MongoDB for your specific computer. You can find the instructions on the MongoDB website.\n",
    "\n",
    "There are generally two components to a database software:\n",
    "\n",
    "1. the server\n",
    "2. the client\n",
    "\n",
    "The server is essentially a background process that listens for connections - this is the database itself. The client is another piece of software that connects to the database, queries it, adds data, deletes data, etc. In order to _use_ MongoDB you need to launch the server. See the MongoDB website for details, but once installed the server can be launched by executing `mongod` in the Terminal (`mongod` stands for **mongo** **d**aemon.)"
   ]
  },
  {
   "cell_type": "markdown",
   "metadata": {},
   "source": [
    "## Database Structure"
   ]
  },
  {
   "cell_type": "markdown",
   "metadata": {},
   "source": [
    "MongoDB is organized into `Databases` > `Collections` > `Documents`. For those of you familiar with SQL, these will equate roughly to `Databases` > `Tables` > `Rows`.\n",
    "\n",
    "You should research the appropriate commands your MongoDB client (for this lab Python's _pymongo_) using documentation found on the internet. For this lab, you should use a database called `encounters`, and you will need to insert data into one of two collections, either `observations` or `patients`."
   ]
  },
  {
   "cell_type": "markdown",
   "metadata": {},
   "source": [
    "## Common MongoDB Commands"
   ]
  },
  {
   "cell_type": "markdown",
   "metadata": {},
   "source": [
    "|      Command              |           Description             |\n",
    "|---------------------------|-----------------------------------|\n",
    "| `mongod`                  |          launch the mongo server  |\n",
    "| `mongo`                   |          start the mongo client   |"
   ]
  },
  {
   "cell_type": "markdown",
   "metadata": {},
   "source": [
    "### Some Commands in the `mongo` Client"
   ]
  },
  {
   "cell_type": "markdown",
   "metadata": {},
   "source": [
    "|      Command              |           Description             |\n",
    "|---------------------------|-----------------------------------|\n",
    "| `show dbs`                |    show the databases             |\n",
    "| `show collections`        |    show the collections in the DB |\n",
    "| `db.mycollection.insert({\"key\": \"my_val\"})` | insert a document into the collection 'mycollection' |\n",
    "| `db.mycollection.find()`   |    select all rows in 'mycollection' |\n",
    "| `db.mycollection.findOne()` |    select the first record      |\n",
    "| `db.help()`                 |    get help on the `db` command |"
   ]
  },
  {
   "cell_type": "markdown",
   "metadata": {},
   "source": [
    "### Some Commands in the `pymongo` Python Client"
   ]
  },
  {
   "cell_type": "markdown",
   "metadata": {},
   "source": [
    "```\n",
    "import pymongo\n",
    "client = pymongo.MongoClient()\n",
    "db = client.my_db\n",
    "result = db.messages.find()  # Search for some data...\n",
    "                             # The result is a Python iterator\n",
    "```"
   ]
  },
  {
   "cell_type": "markdown",
   "metadata": {},
   "source": [
    "When you `pymongo`, inserting data should return the objectId's of every document inserted by your command. Each objectId is like a primary key in SQL - a unique identifier for the document."
   ]
  },
  {
   "cell_type": "code",
   "execution_count": null,
   "metadata": {
    "collapsed": true
   },
   "outputs": [],
   "source": []
  }
 ],
 "metadata": {
  "kernelspec": {
   "display_name": "Python 2",
   "language": "python",
   "name": "python2"
  },
  "language_info": {
   "codemirror_mode": {
    "name": "ipython",
    "version": 2
   },
   "file_extension": ".py",
   "mimetype": "text/x-python",
   "name": "python",
   "nbconvert_exporter": "python",
   "pygments_lexer": "ipython2",
   "version": "2.7.6"
  }
 },
 "nbformat": 4,
 "nbformat_minor": 0
}
